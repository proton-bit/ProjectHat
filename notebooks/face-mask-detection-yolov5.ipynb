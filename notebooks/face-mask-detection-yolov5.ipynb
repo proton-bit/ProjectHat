{
 "cells": [
  {
   "cell_type": "markdown",
   "metadata": {
    "id": "5OdllX2BTaJy"
   },
   "source": [
    "# Setup the Environment\n",
    "We are going to use YOLOv5 model for training.\n",
    "so lets clone and install the YOLO from github repo"
   ]
  },
  {
   "cell_type": "code",
   "execution_count": null,
   "metadata": {
    "id": "G6pn0fYXj8bk"
   },
   "outputs": [],
   "source": [
    "from google.colab import drive\n",
    "drive.mount('/content/drive')"
   ]
  },
  {
   "cell_type": "code",
   "execution_count": 2,
   "metadata": {
    "colab": {
     "base_uri": "https://localhost:8080/"
    },
    "executionInfo": {
     "elapsed": 305,
     "status": "ok",
     "timestamp": 1667547341420,
     "user": {
      "displayName": "Azizov Said",
      "userId": "03891546208068748818"
     },
     "user_tz": -180
    },
    "id": "2t3rKg0ETaJ4",
    "outputId": "dd7fed6a-2fec-4a1c-e956-ac35b1d7a900"
   },
   "outputs": [
    {
     "name": "stdout",
     "output_type": "stream",
     "text": [
      "Cloning into 'yolov5'...\n",
      "remote: Enumerating objects: 14469, done.\u001B[K\n",
      "remote: Total 14469 (delta 0), reused 0 (delta 0), pack-reused 14469\u001B[K\n",
      "Receiving objects: 100% (14469/14469), 13.47 MiB | 26.79 MiB/s, done.\n",
      "Resolving deltas: 100% (9988/9988), done.\n",
      "/content/yolov5\n",
      "\u001B[K     |████████████████████████████████| 1.6 MB 7.2 MB/s \n",
      "\u001B[?25h"
     ]
    }
   ],
   "source": [
    "!git clone https://github.com/ultralytics/yolov5\n",
    "%cd yolov5\n",
    "!pip install -qr requirements.txt"
   ]
  },
  {
   "cell_type": "code",
   "execution_count": 5,
   "metadata": {
    "executionInfo": {
     "elapsed": 1571,
     "status": "ok",
     "timestamp": 1667547441356,
     "user": {
      "displayName": "Azizov Said",
      "userId": "03891546208068748818"
     },
     "user_tz": -180
    },
    "id": "m7Jw8Cr5TaJ6"
   },
   "outputs": [],
   "source": [
    "# Import required libraries\n",
    "import pandas as pd\n",
    "import numpy as np\n",
    "import os\n",
    "import glob\n",
    "from datetime import datetime\n",
    "import xml.etree.ElementTree as ET \n",
    "import cv2\n",
    "import matplotlib.pyplot as plt\n",
    "import seaborn as sns\n",
    "import warnings\n",
    "warnings.filterwarnings('ignore')"
   ]
  },
  {
   "cell_type": "code",
   "execution_count": 32,
   "metadata": {
    "executionInfo": {
     "elapsed": 423,
     "status": "ok",
     "timestamp": 1667547891909,
     "user": {
      "displayName": "Azizov Said",
      "userId": "03891546208068748818"
     },
     "user_tz": -180
    },
    "id": "WadOm9OhTaJ6"
   },
   "outputs": [],
   "source": [
    "input_data = '/content/drive/MyDrive/face_detection/face_mask_detection_dataset'\n",
    "output_data = '/content'"
   ]
  },
  {
   "cell_type": "markdown",
   "metadata": {
    "id": "tlE9rmzaTaJ6"
   },
   "source": [
    "# Read and Handle Annotations\n",
    "Read the data from .xml files\n",
    "<br>\n",
    "Extract filename and dimensions of the bouding boxes\n",
    "<br>\n",
    "and import that data into a pandas DataFrame"
   ]
  },
  {
   "cell_type": "code",
   "execution_count": 14,
   "metadata": {
    "executionInfo": {
     "elapsed": 436,
     "status": "ok",
     "timestamp": 1667547587257,
     "user": {
      "displayName": "Azizov Said",
      "userId": "03891546208068748818"
     },
     "user_tz": -180
    },
    "id": "0ioiiyUATaJ7"
   },
   "outputs": [],
   "source": [
    "annotations_path = os.path.join(input_data, \"annotations\")\n",
    "images_path = os.path.join(input_data, \"images\")"
   ]
  },
  {
   "cell_type": "code",
   "execution_count": 16,
   "metadata": {
    "executionInfo": {
     "elapsed": 1817,
     "status": "ok",
     "timestamp": 1667547612592,
     "user": {
      "displayName": "Azizov Said",
      "userId": "03891546208068748818"
     },
     "user_tz": -180
    },
    "id": "8x6wPPlGTaJ7"
   },
   "outputs": [],
   "source": [
    "dataset = {\n",
    "            \"file\":[],\n",
    "            \"name\":[],    \n",
    "            \"width\":[],\n",
    "            \"height\":[],\n",
    "            \"xmin\":[],\n",
    "            \"ymin\":[],   \n",
    "            \"xmax\":[],\n",
    "            \"ymax\":[],\n",
    "           }\n",
    "\n",
    "for anno in glob.glob(annotations_path+\"/*.xml\"):\n",
    "    tree = ET.parse(anno)\n",
    "    \n",
    "    for elem in tree.iter():\n",
    "        if 'size' in elem.tag:\n",
    "            for attr in list(elem):\n",
    "                if 'width' in attr.tag: \n",
    "                    width = int(round(float(attr.text)))\n",
    "                if 'height' in attr.tag:\n",
    "                    height = int(round(float(attr.text)))    \n",
    "\n",
    "        if 'object' in elem.tag:\n",
    "            for attr in list(elem):\n",
    "                \n",
    "                if 'name' in attr.tag:\n",
    "                    name = attr.text                 \n",
    "                    dataset['name']+=[name]\n",
    "                    dataset['width']+=[width]\n",
    "                    dataset['height']+=[height] \n",
    "                    dataset['file']+=[anno.split('/')[-1][0:-4]] \n",
    "                            \n",
    "                if 'bndbox' in attr.tag:\n",
    "                    for dim in list(attr):\n",
    "                        if 'xmin' in dim.tag:\n",
    "                            xmin = int(round(float(dim.text)))\n",
    "                            dataset['xmin']+=[xmin]\n",
    "                        if 'ymin' in dim.tag:\n",
    "                            ymin = int(round(float(dim.text)))\n",
    "                            dataset['ymin']+=[ymin]                                \n",
    "                        if 'xmax' in dim.tag:\n",
    "                            xmax = int(round(float(dim.text)))\n",
    "                            dataset['xmax']+=[xmax]                                \n",
    "                        if 'ymax' in dim.tag:\n",
    "                            ymax = int(round(float(dim.text)))\n",
    "                            dataset['ymax']+=[ymax]"
   ]
  },
  {
   "cell_type": "code",
   "execution_count": 17,
   "metadata": {
    "colab": {
     "base_uri": "https://localhost:8080/",
     "height": 201
    },
    "executionInfo": {
     "elapsed": 273,
     "status": "ok",
     "timestamp": 1667547646334,
     "user": {
      "displayName": "Azizov Said",
      "userId": "03891546208068748818"
     },
     "user_tz": -180
    },
    "id": "E-gPB1pITaJ8",
    "outputId": "a7162c1e-8e47-45db-f640-1d2ac8754358"
   },
   "outputs": [
    {
     "data": {
      "text/html": [
       "\n",
       "  <div id=\"df-61db9608-342a-4919-bbd1-82009f8af686\">\n",
       "    <div class=\"colab-df-container\">\n",
       "      <div>\n",
       "<style scoped>\n",
       "    .dataframe tbody tr th:only-of-type {\n",
       "        vertical-align: middle;\n",
       "    }\n",
       "\n",
       "    .dataframe tbody tr th {\n",
       "        vertical-align: top;\n",
       "    }\n",
       "\n",
       "    .dataframe thead th {\n",
       "        text-align: right;\n",
       "    }\n",
       "</style>\n",
       "<table border=\"1\" class=\"dataframe\">\n",
       "  <thead>\n",
       "    <tr style=\"text-align: right;\">\n",
       "      <th></th>\n",
       "      <th>file</th>\n",
       "      <th>name</th>\n",
       "      <th>width</th>\n",
       "      <th>height</th>\n",
       "      <th>xmin</th>\n",
       "      <th>ymin</th>\n",
       "      <th>xmax</th>\n",
       "      <th>ymax</th>\n",
       "    </tr>\n",
       "  </thead>\n",
       "  <tbody>\n",
       "    <tr>\n",
       "      <th>0</th>\n",
       "      <td>maksssksksss109</td>\n",
       "      <td>with_mask</td>\n",
       "      <td>400</td>\n",
       "      <td>400</td>\n",
       "      <td>216</td>\n",
       "      <td>92</td>\n",
       "      <td>372</td>\n",
       "      <td>251</td>\n",
       "    </tr>\n",
       "    <tr>\n",
       "      <th>1</th>\n",
       "      <td>maksssksksss106</td>\n",
       "      <td>with_mask</td>\n",
       "      <td>600</td>\n",
       "      <td>399</td>\n",
       "      <td>154</td>\n",
       "      <td>51</td>\n",
       "      <td>423</td>\n",
       "      <td>391</td>\n",
       "    </tr>\n",
       "    <tr>\n",
       "      <th>2</th>\n",
       "      <td>maksssksksss10</td>\n",
       "      <td>with_mask</td>\n",
       "      <td>301</td>\n",
       "      <td>400</td>\n",
       "      <td>98</td>\n",
       "      <td>267</td>\n",
       "      <td>194</td>\n",
       "      <td>383</td>\n",
       "    </tr>\n",
       "    <tr>\n",
       "      <th>3</th>\n",
       "      <td>maksssksksss104</td>\n",
       "      <td>without_mask</td>\n",
       "      <td>400</td>\n",
       "      <td>267</td>\n",
       "      <td>42</td>\n",
       "      <td>109</td>\n",
       "      <td>66</td>\n",
       "      <td>140</td>\n",
       "    </tr>\n",
       "    <tr>\n",
       "      <th>4</th>\n",
       "      <td>maksssksksss104</td>\n",
       "      <td>without_mask</td>\n",
       "      <td>400</td>\n",
       "      <td>267</td>\n",
       "      <td>2</td>\n",
       "      <td>105</td>\n",
       "      <td>22</td>\n",
       "      <td>125</td>\n",
       "    </tr>\n",
       "  </tbody>\n",
       "</table>\n",
       "</div>\n",
       "      <button class=\"colab-df-convert\" onclick=\"convertToInteractive('df-61db9608-342a-4919-bbd1-82009f8af686')\"\n",
       "              title=\"Convert this dataframe to an interactive table.\"\n",
       "              style=\"display:none;\">\n",
       "        \n",
       "  <svg xmlns=\"http://www.w3.org/2000/svg\" height=\"24px\"viewBox=\"0 0 24 24\"\n",
       "       width=\"24px\">\n",
       "    <path d=\"M0 0h24v24H0V0z\" fill=\"none\"/>\n",
       "    <path d=\"M18.56 5.44l.94 2.06.94-2.06 2.06-.94-2.06-.94-.94-2.06-.94 2.06-2.06.94zm-11 1L8.5 8.5l.94-2.06 2.06-.94-2.06-.94L8.5 2.5l-.94 2.06-2.06.94zm10 10l.94 2.06.94-2.06 2.06-.94-2.06-.94-.94-2.06-.94 2.06-2.06.94z\"/><path d=\"M17.41 7.96l-1.37-1.37c-.4-.4-.92-.59-1.43-.59-.52 0-1.04.2-1.43.59L10.3 9.45l-7.72 7.72c-.78.78-.78 2.05 0 2.83L4 21.41c.39.39.9.59 1.41.59.51 0 1.02-.2 1.41-.59l7.78-7.78 2.81-2.81c.8-.78.8-2.07 0-2.86zM5.41 20L4 18.59l7.72-7.72 1.47 1.35L5.41 20z\"/>\n",
       "  </svg>\n",
       "      </button>\n",
       "      \n",
       "  <style>\n",
       "    .colab-df-container {\n",
       "      display:flex;\n",
       "      flex-wrap:wrap;\n",
       "      gap: 12px;\n",
       "    }\n",
       "\n",
       "    .colab-df-convert {\n",
       "      background-color: #E8F0FE;\n",
       "      border: none;\n",
       "      border-radius: 50%;\n",
       "      cursor: pointer;\n",
       "      display: none;\n",
       "      fill: #1967D2;\n",
       "      height: 32px;\n",
       "      padding: 0 0 0 0;\n",
       "      width: 32px;\n",
       "    }\n",
       "\n",
       "    .colab-df-convert:hover {\n",
       "      background-color: #E2EBFA;\n",
       "      box-shadow: 0px 1px 2px rgba(60, 64, 67, 0.3), 0px 1px 3px 1px rgba(60, 64, 67, 0.15);\n",
       "      fill: #174EA6;\n",
       "    }\n",
       "\n",
       "    [theme=dark] .colab-df-convert {\n",
       "      background-color: #3B4455;\n",
       "      fill: #D2E3FC;\n",
       "    }\n",
       "\n",
       "    [theme=dark] .colab-df-convert:hover {\n",
       "      background-color: #434B5C;\n",
       "      box-shadow: 0px 1px 3px 1px rgba(0, 0, 0, 0.15);\n",
       "      filter: drop-shadow(0px 1px 2px rgba(0, 0, 0, 0.3));\n",
       "      fill: #FFFFFF;\n",
       "    }\n",
       "  </style>\n",
       "\n",
       "      <script>\n",
       "        const buttonEl =\n",
       "          document.querySelector('#df-61db9608-342a-4919-bbd1-82009f8af686 button.colab-df-convert');\n",
       "        buttonEl.style.display =\n",
       "          google.colab.kernel.accessAllowed ? 'block' : 'none';\n",
       "\n",
       "        async function convertToInteractive(key) {\n",
       "          const element = document.querySelector('#df-61db9608-342a-4919-bbd1-82009f8af686');\n",
       "          const dataTable =\n",
       "            await google.colab.kernel.invokeFunction('convertToInteractive',\n",
       "                                                     [key], {});\n",
       "          if (!dataTable) return;\n",
       "\n",
       "          const docLinkHtml = 'Like what you see? Visit the ' +\n",
       "            '<a target=\"_blank\" href=https://colab.research.google.com/notebooks/data_table.ipynb>data table notebook</a>'\n",
       "            + ' to learn more about interactive tables.';\n",
       "          element.innerHTML = '';\n",
       "          dataTable['output_type'] = 'display_data';\n",
       "          await google.colab.output.renderOutput(dataTable, element);\n",
       "          const docLink = document.createElement('div');\n",
       "          docLink.innerHTML = docLinkHtml;\n",
       "          element.appendChild(docLink);\n",
       "        }\n",
       "      </script>\n",
       "    </div>\n",
       "  </div>\n",
       "  "
      ],
      "text/plain": [
       "              file          name  width  height  xmin  ymin  xmax  ymax\n",
       "0  maksssksksss109     with_mask    400     400   216    92   372   251\n",
       "1  maksssksksss106     with_mask    600     399   154    51   423   391\n",
       "2   maksssksksss10     with_mask    301     400    98   267   194   383\n",
       "3  maksssksksss104  without_mask    400     267    42   109    66   140\n",
       "4  maksssksksss104  without_mask    400     267     2   105    22   125"
      ]
     },
     "execution_count": 17,
     "metadata": {},
     "output_type": "execute_result"
    }
   ],
   "source": [
    "df=pd.DataFrame(dataset)\n",
    "df.head()"
   ]
  },
  {
   "cell_type": "code",
   "execution_count": 21,
   "metadata": {
    "colab": {
     "base_uri": "https://localhost:8080/",
     "height": 411
    },
    "executionInfo": {
     "elapsed": 371,
     "status": "ok",
     "timestamp": 1667547683364,
     "user": {
      "displayName": "Azizov Said",
      "userId": "03891546208068748818"
     },
     "user_tz": -180
    },
    "id": "o_fhCLEzlgi_",
    "outputId": "cbefcbbf-6b52-4058-a8f8-729f27fbc1a0"
   },
   "outputs": [
    {
     "data": {
      "text/html": [
       "\n",
       "  <div id=\"df-39e82b0a-bd10-409e-97cc-68891fbd6bfc\">\n",
       "    <div class=\"colab-df-container\">\n",
       "      <div>\n",
       "<style scoped>\n",
       "    .dataframe tbody tr th:only-of-type {\n",
       "        vertical-align: middle;\n",
       "    }\n",
       "\n",
       "    .dataframe tbody tr th {\n",
       "        vertical-align: top;\n",
       "    }\n",
       "\n",
       "    .dataframe thead th {\n",
       "        text-align: right;\n",
       "    }\n",
       "</style>\n",
       "<table border=\"1\" class=\"dataframe\">\n",
       "  <thead>\n",
       "    <tr style=\"text-align: right;\">\n",
       "      <th></th>\n",
       "      <th>file</th>\n",
       "      <th>name</th>\n",
       "      <th>width</th>\n",
       "      <th>height</th>\n",
       "      <th>xmin</th>\n",
       "      <th>ymin</th>\n",
       "      <th>xmax</th>\n",
       "      <th>ymax</th>\n",
       "      <th>class</th>\n",
       "    </tr>\n",
       "  </thead>\n",
       "  <tbody>\n",
       "    <tr>\n",
       "      <th>0</th>\n",
       "      <td>maksssksksss109</td>\n",
       "      <td>head</td>\n",
       "      <td>400</td>\n",
       "      <td>400</td>\n",
       "      <td>216</td>\n",
       "      <td>92</td>\n",
       "      <td>372</td>\n",
       "      <td>251</td>\n",
       "      <td>0</td>\n",
       "    </tr>\n",
       "    <tr>\n",
       "      <th>1</th>\n",
       "      <td>maksssksksss106</td>\n",
       "      <td>head</td>\n",
       "      <td>600</td>\n",
       "      <td>399</td>\n",
       "      <td>154</td>\n",
       "      <td>51</td>\n",
       "      <td>423</td>\n",
       "      <td>391</td>\n",
       "      <td>0</td>\n",
       "    </tr>\n",
       "    <tr>\n",
       "      <th>2</th>\n",
       "      <td>maksssksksss10</td>\n",
       "      <td>head</td>\n",
       "      <td>301</td>\n",
       "      <td>400</td>\n",
       "      <td>98</td>\n",
       "      <td>267</td>\n",
       "      <td>194</td>\n",
       "      <td>383</td>\n",
       "      <td>0</td>\n",
       "    </tr>\n",
       "    <tr>\n",
       "      <th>3</th>\n",
       "      <td>maksssksksss104</td>\n",
       "      <td>head</td>\n",
       "      <td>400</td>\n",
       "      <td>267</td>\n",
       "      <td>42</td>\n",
       "      <td>109</td>\n",
       "      <td>66</td>\n",
       "      <td>140</td>\n",
       "      <td>2</td>\n",
       "    </tr>\n",
       "    <tr>\n",
       "      <th>4</th>\n",
       "      <td>maksssksksss104</td>\n",
       "      <td>head</td>\n",
       "      <td>400</td>\n",
       "      <td>267</td>\n",
       "      <td>2</td>\n",
       "      <td>105</td>\n",
       "      <td>22</td>\n",
       "      <td>125</td>\n",
       "      <td>2</td>\n",
       "    </tr>\n",
       "    <tr>\n",
       "      <th>...</th>\n",
       "      <td>...</td>\n",
       "      <td>...</td>\n",
       "      <td>...</td>\n",
       "      <td>...</td>\n",
       "      <td>...</td>\n",
       "      <td>...</td>\n",
       "      <td>...</td>\n",
       "      <td>...</td>\n",
       "      <td>...</td>\n",
       "    </tr>\n",
       "    <tr>\n",
       "      <th>4067</th>\n",
       "      <td>maksssksksss623</td>\n",
       "      <td>head</td>\n",
       "      <td>400</td>\n",
       "      <td>245</td>\n",
       "      <td>287</td>\n",
       "      <td>55</td>\n",
       "      <td>310</td>\n",
       "      <td>78</td>\n",
       "      <td>0</td>\n",
       "    </tr>\n",
       "    <tr>\n",
       "      <th>4068</th>\n",
       "      <td>maksssksksss623</td>\n",
       "      <td>head</td>\n",
       "      <td>400</td>\n",
       "      <td>245</td>\n",
       "      <td>359</td>\n",
       "      <td>149</td>\n",
       "      <td>387</td>\n",
       "      <td>167</td>\n",
       "      <td>0</td>\n",
       "    </tr>\n",
       "    <tr>\n",
       "      <th>4069</th>\n",
       "      <td>maksssksksss623</td>\n",
       "      <td>head</td>\n",
       "      <td>400</td>\n",
       "      <td>245</td>\n",
       "      <td>345</td>\n",
       "      <td>75</td>\n",
       "      <td>369</td>\n",
       "      <td>95</td>\n",
       "      <td>0</td>\n",
       "    </tr>\n",
       "    <tr>\n",
       "      <th>4070</th>\n",
       "      <td>maksssksksss623</td>\n",
       "      <td>head</td>\n",
       "      <td>400</td>\n",
       "      <td>245</td>\n",
       "      <td>320</td>\n",
       "      <td>41</td>\n",
       "      <td>338</td>\n",
       "      <td>59</td>\n",
       "      <td>0</td>\n",
       "    </tr>\n",
       "    <tr>\n",
       "      <th>4071</th>\n",
       "      <td>maksssksksss623</td>\n",
       "      <td>head</td>\n",
       "      <td>400</td>\n",
       "      <td>245</td>\n",
       "      <td>319</td>\n",
       "      <td>15</td>\n",
       "      <td>337</td>\n",
       "      <td>30</td>\n",
       "      <td>0</td>\n",
       "    </tr>\n",
       "  </tbody>\n",
       "</table>\n",
       "<p>4072 rows × 9 columns</p>\n",
       "</div>\n",
       "      <button class=\"colab-df-convert\" onclick=\"convertToInteractive('df-39e82b0a-bd10-409e-97cc-68891fbd6bfc')\"\n",
       "              title=\"Convert this dataframe to an interactive table.\"\n",
       "              style=\"display:none;\">\n",
       "        \n",
       "  <svg xmlns=\"http://www.w3.org/2000/svg\" height=\"24px\"viewBox=\"0 0 24 24\"\n",
       "       width=\"24px\">\n",
       "    <path d=\"M0 0h24v24H0V0z\" fill=\"none\"/>\n",
       "    <path d=\"M18.56 5.44l.94 2.06.94-2.06 2.06-.94-2.06-.94-.94-2.06-.94 2.06-2.06.94zm-11 1L8.5 8.5l.94-2.06 2.06-.94-2.06-.94L8.5 2.5l-.94 2.06-2.06.94zm10 10l.94 2.06.94-2.06 2.06-.94-2.06-.94-.94-2.06-.94 2.06-2.06.94z\"/><path d=\"M17.41 7.96l-1.37-1.37c-.4-.4-.92-.59-1.43-.59-.52 0-1.04.2-1.43.59L10.3 9.45l-7.72 7.72c-.78.78-.78 2.05 0 2.83L4 21.41c.39.39.9.59 1.41.59.51 0 1.02-.2 1.41-.59l7.78-7.78 2.81-2.81c.8-.78.8-2.07 0-2.86zM5.41 20L4 18.59l7.72-7.72 1.47 1.35L5.41 20z\"/>\n",
       "  </svg>\n",
       "      </button>\n",
       "      \n",
       "  <style>\n",
       "    .colab-df-container {\n",
       "      display:flex;\n",
       "      flex-wrap:wrap;\n",
       "      gap: 12px;\n",
       "    }\n",
       "\n",
       "    .colab-df-convert {\n",
       "      background-color: #E8F0FE;\n",
       "      border: none;\n",
       "      border-radius: 50%;\n",
       "      cursor: pointer;\n",
       "      display: none;\n",
       "      fill: #1967D2;\n",
       "      height: 32px;\n",
       "      padding: 0 0 0 0;\n",
       "      width: 32px;\n",
       "    }\n",
       "\n",
       "    .colab-df-convert:hover {\n",
       "      background-color: #E2EBFA;\n",
       "      box-shadow: 0px 1px 2px rgba(60, 64, 67, 0.3), 0px 1px 3px 1px rgba(60, 64, 67, 0.15);\n",
       "      fill: #174EA6;\n",
       "    }\n",
       "\n",
       "    [theme=dark] .colab-df-convert {\n",
       "      background-color: #3B4455;\n",
       "      fill: #D2E3FC;\n",
       "    }\n",
       "\n",
       "    [theme=dark] .colab-df-convert:hover {\n",
       "      background-color: #434B5C;\n",
       "      box-shadow: 0px 1px 3px 1px rgba(0, 0, 0, 0.15);\n",
       "      filter: drop-shadow(0px 1px 2px rgba(0, 0, 0, 0.3));\n",
       "      fill: #FFFFFF;\n",
       "    }\n",
       "  </style>\n",
       "\n",
       "      <script>\n",
       "        const buttonEl =\n",
       "          document.querySelector('#df-39e82b0a-bd10-409e-97cc-68891fbd6bfc button.colab-df-convert');\n",
       "        buttonEl.style.display =\n",
       "          google.colab.kernel.accessAllowed ? 'block' : 'none';\n",
       "\n",
       "        async function convertToInteractive(key) {\n",
       "          const element = document.querySelector('#df-39e82b0a-bd10-409e-97cc-68891fbd6bfc');\n",
       "          const dataTable =\n",
       "            await google.colab.kernel.invokeFunction('convertToInteractive',\n",
       "                                                     [key], {});\n",
       "          if (!dataTable) return;\n",
       "\n",
       "          const docLinkHtml = 'Like what you see? Visit the ' +\n",
       "            '<a target=\"_blank\" href=https://colab.research.google.com/notebooks/data_table.ipynb>data table notebook</a>'\n",
       "            + ' to learn more about interactive tables.';\n",
       "          element.innerHTML = '';\n",
       "          dataTable['output_type'] = 'display_data';\n",
       "          await google.colab.output.renderOutput(dataTable, element);\n",
       "          const docLink = document.createElement('div');\n",
       "          docLink.innerHTML = docLinkHtml;\n",
       "          element.appendChild(docLink);\n",
       "        }\n",
       "      </script>\n",
       "    </div>\n",
       "  </div>\n",
       "  "
      ],
      "text/plain": [
       "                 file  name  width  height  xmin  ymin  xmax  ymax  class\n",
       "0     maksssksksss109  head    400     400   216    92   372   251      0\n",
       "1     maksssksksss106  head    600     399   154    51   423   391      0\n",
       "2      maksssksksss10  head    301     400    98   267   194   383      0\n",
       "3     maksssksksss104  head    400     267    42   109    66   140      2\n",
       "4     maksssksksss104  head    400     267     2   105    22   125      2\n",
       "...               ...   ...    ...     ...   ...   ...   ...   ...    ...\n",
       "4067  maksssksksss623  head    400     245   287    55   310    78      0\n",
       "4068  maksssksksss623  head    400     245   359   149   387   167      0\n",
       "4069  maksssksksss623  head    400     245   345    75   369    95      0\n",
       "4070  maksssksksss623  head    400     245   320    41   338    59      0\n",
       "4071  maksssksksss623  head    400     245   319    15   337    30      0\n",
       "\n",
       "[4072 rows x 9 columns]"
      ]
     },
     "execution_count": 21,
     "metadata": {},
     "output_type": "execute_result"
    }
   ],
   "source": [
    "df[\"name\"] = \"head\"\n",
    "df"
   ]
  },
  {
   "cell_type": "code",
   "execution_count": 22,
   "metadata": {
    "executionInfo": {
     "elapsed": 261,
     "status": "ok",
     "timestamp": 1667547717766,
     "user": {
      "displayName": "Azizov Said",
      "userId": "03891546208068748818"
     },
     "user_tz": -180
    },
    "id": "Eg92SCH4TaJ8"
   },
   "outputs": [],
   "source": [
    "name_dict = {\n",
    "    'head': 0\n",
    "}\n",
    "\n",
    "df['class'] = df['name'].map(name_dict)"
   ]
  },
  {
   "cell_type": "code",
   "execution_count": 23,
   "metadata": {
    "colab": {
     "base_uri": "https://localhost:8080/"
    },
    "executionInfo": {
     "elapsed": 266,
     "status": "ok",
     "timestamp": 1667547719634,
     "user": {
      "displayName": "Azizov Said",
      "userId": "03891546208068748818"
     },
     "user_tz": -180
    },
    "id": "9Z-0boUeTaJ8",
    "outputId": "86ef2592-103a-4e46-9cc5-c44b1ba07bf0"
   },
   "outputs": [
    {
     "data": {
      "text/plain": [
       "array(['head'], dtype=object)"
      ]
     },
     "execution_count": 23,
     "metadata": {},
     "output_type": "execute_result"
    }
   ],
   "source": [
    "np.sort(df.name.unique())"
   ]
  },
  {
   "cell_type": "markdown",
   "metadata": {
    "id": "7lpb_51gTaJ9"
   },
   "source": [
    "# Train Test Split\n",
    "Split the dataset into training testing and validation set\n",
    "<br>\n",
    "separate the data in different folder inside the Yolo directory\n",
    "<br>\n",
    "and Normalize data"
   ]
  },
  {
   "cell_type": "code",
   "execution_count": 26,
   "metadata": {
    "colab": {
     "base_uri": "https://localhost:8080/"
    },
    "executionInfo": {
     "elapsed": 553,
     "status": "ok",
     "timestamp": 1667547751062,
     "user": {
      "displayName": "Azizov Said",
      "userId": "03891546208068748818"
     },
     "user_tz": -180
    },
    "id": "MMhSKSI4TaJ9",
    "outputId": "54dd271f-8139-42a0-d5fd-b54845e4feba"
   },
   "outputs": [
    {
     "name": "stdout",
     "output_type": "stream",
     "text": [
      "There are 853 images in the dataset\n"
     ]
    }
   ],
   "source": [
    "fileNames = [*os.listdir(images_path)]\n",
    "print('There are {} images in the dataset'.format(len(fileNames)))"
   ]
  },
  {
   "cell_type": "code",
   "execution_count": 27,
   "metadata": {
    "colab": {
     "base_uri": "https://localhost:8080/"
    },
    "executionInfo": {
     "elapsed": 733,
     "status": "ok",
     "timestamp": 1667547755184,
     "user": {
      "displayName": "Azizov Said",
      "userId": "03891546208068748818"
     },
     "user_tz": -180
    },
    "id": "N0_VR4tgTaJ9",
    "outputId": "1f276fb8-ed7d-4ed8-cd4d-87d1f87f736c"
   },
   "outputs": [
    {
     "name": "stdout",
     "output_type": "stream",
     "text": [
      "Length of Train = 767\n",
      "==============================\n",
      "Length of Valid = 61\n",
      "==============================\n",
      "Length of test = 25\n"
     ]
    }
   ],
   "source": [
    "from sklearn.model_selection import train_test_split\n",
    "train, test = train_test_split(fileNames, test_size=0.1, random_state=22)\n",
    "test, val = train_test_split(test, test_size=0.7, random_state=22)\n",
    "print(\"Length of Train =\",len(train))\n",
    "print(\"=\"*30)\n",
    "print(\"Length of Valid =\",len(val))\n",
    "print(\"=\"*30)\n",
    "print(\"Length of test =\", len(test))"
   ]
  },
  {
   "cell_type": "code",
   "execution_count": 30,
   "metadata": {
    "executionInfo": {
     "elapsed": 288,
     "status": "ok",
     "timestamp": 1667547830045,
     "user": {
      "displayName": "Azizov Said",
      "userId": "03891546208068748818"
     },
     "user_tz": -180
    },
    "id": "8V3kEZxdTaJ-"
   },
   "outputs": [],
   "source": [
    "# create separate train test and validation dir inside yolo/data/\n",
    "\n",
    "os.mkdir('/content/yolov5/data/train')\n",
    "os.mkdir('/content/yolov5/data/val')\n",
    "os.mkdir('/content/yolov5/data/test')\n",
    "os.mkdir('/content/yolov5/data/train/images')\n",
    "os.mkdir('/content/yolov5/data/train/labels')\n",
    "os.mkdir('/content/yolov5/data/test/images')\n",
    "os.mkdir('/content/yolov5/data/test/labels')\n",
    "os.mkdir('/content/yolov5/data/val/images')\n",
    "os.mkdir('/content/yolov5/data/val/labels')"
   ]
  },
  {
   "cell_type": "code",
   "execution_count": 33,
   "metadata": {
    "executionInfo": {
     "elapsed": 377147,
     "status": "ok",
     "timestamp": 1667548274343,
     "user": {
      "displayName": "Azizov Said",
      "userId": "03891546208068748818"
     },
     "user_tz": -180
    },
    "id": "vq8mcyJNTaJ-"
   },
   "outputs": [],
   "source": [
    "\n",
    "from PIL import Image\n",
    "\n",
    "def copyImages(imageList, folder_Name):\n",
    "    for image in imageList:\n",
    "        img = Image.open(input_data+\"/images/\"+image)\n",
    "        img1 = img.resize((640, 480))\n",
    "        _ = img1.save(output_data+\"/yolov5/data/\"+folder_Name+\"/images/\"+image)\n",
    "\n",
    "copyImages(train, \"train\")\n",
    "copyImages(val, \"val\")\n",
    "copyImages(test, \"test\")"
   ]
  },
  {
   "cell_type": "code",
   "execution_count": 34,
   "metadata": {
    "colab": {
     "base_uri": "https://localhost:8080/",
     "height": 201
    },
    "executionInfo": {
     "elapsed": 436,
     "status": "ok",
     "timestamp": 1667549081415,
     "user": {
      "displayName": "Azizov Said",
      "userId": "03891546208068748818"
     },
     "user_tz": -180
    },
    "id": "2lJMcnmpTaJ_",
    "outputId": "01a6b231-9b16-4cc9-e56b-692dce500c4e"
   },
   "outputs": [
    {
     "data": {
      "text/html": [
       "\n",
       "  <div id=\"df-51035399-dc9e-4b83-ba2c-2c159453b6fb\">\n",
       "    <div class=\"colab-df-container\">\n",
       "      <div>\n",
       "<style scoped>\n",
       "    .dataframe tbody tr th:only-of-type {\n",
       "        vertical-align: middle;\n",
       "    }\n",
       "\n",
       "    .dataframe tbody tr th {\n",
       "        vertical-align: top;\n",
       "    }\n",
       "\n",
       "    .dataframe thead th {\n",
       "        text-align: right;\n",
       "    }\n",
       "</style>\n",
       "<table border=\"1\" class=\"dataframe\">\n",
       "  <thead>\n",
       "    <tr style=\"text-align: right;\">\n",
       "      <th></th>\n",
       "      <th>file</th>\n",
       "      <th>name</th>\n",
       "      <th>width</th>\n",
       "      <th>height</th>\n",
       "      <th>xmin</th>\n",
       "      <th>ymin</th>\n",
       "      <th>xmax</th>\n",
       "      <th>ymax</th>\n",
       "      <th>class</th>\n",
       "    </tr>\n",
       "  </thead>\n",
       "  <tbody>\n",
       "    <tr>\n",
       "      <th>0</th>\n",
       "      <td>maksssksksss109</td>\n",
       "      <td>head</td>\n",
       "      <td>400</td>\n",
       "      <td>400</td>\n",
       "      <td>216</td>\n",
       "      <td>92</td>\n",
       "      <td>372</td>\n",
       "      <td>251</td>\n",
       "      <td>0</td>\n",
       "    </tr>\n",
       "    <tr>\n",
       "      <th>1</th>\n",
       "      <td>maksssksksss106</td>\n",
       "      <td>head</td>\n",
       "      <td>600</td>\n",
       "      <td>399</td>\n",
       "      <td>154</td>\n",
       "      <td>51</td>\n",
       "      <td>423</td>\n",
       "      <td>391</td>\n",
       "      <td>0</td>\n",
       "    </tr>\n",
       "    <tr>\n",
       "      <th>2</th>\n",
       "      <td>maksssksksss10</td>\n",
       "      <td>head</td>\n",
       "      <td>301</td>\n",
       "      <td>400</td>\n",
       "      <td>98</td>\n",
       "      <td>267</td>\n",
       "      <td>194</td>\n",
       "      <td>383</td>\n",
       "      <td>0</td>\n",
       "    </tr>\n",
       "    <tr>\n",
       "      <th>3</th>\n",
       "      <td>maksssksksss104</td>\n",
       "      <td>head</td>\n",
       "      <td>400</td>\n",
       "      <td>267</td>\n",
       "      <td>42</td>\n",
       "      <td>109</td>\n",
       "      <td>66</td>\n",
       "      <td>140</td>\n",
       "      <td>0</td>\n",
       "    </tr>\n",
       "    <tr>\n",
       "      <th>4</th>\n",
       "      <td>maksssksksss104</td>\n",
       "      <td>head</td>\n",
       "      <td>400</td>\n",
       "      <td>267</td>\n",
       "      <td>2</td>\n",
       "      <td>105</td>\n",
       "      <td>22</td>\n",
       "      <td>125</td>\n",
       "      <td>0</td>\n",
       "    </tr>\n",
       "  </tbody>\n",
       "</table>\n",
       "</div>\n",
       "      <button class=\"colab-df-convert\" onclick=\"convertToInteractive('df-51035399-dc9e-4b83-ba2c-2c159453b6fb')\"\n",
       "              title=\"Convert this dataframe to an interactive table.\"\n",
       "              style=\"display:none;\">\n",
       "        \n",
       "  <svg xmlns=\"http://www.w3.org/2000/svg\" height=\"24px\"viewBox=\"0 0 24 24\"\n",
       "       width=\"24px\">\n",
       "    <path d=\"M0 0h24v24H0V0z\" fill=\"none\"/>\n",
       "    <path d=\"M18.56 5.44l.94 2.06.94-2.06 2.06-.94-2.06-.94-.94-2.06-.94 2.06-2.06.94zm-11 1L8.5 8.5l.94-2.06 2.06-.94-2.06-.94L8.5 2.5l-.94 2.06-2.06.94zm10 10l.94 2.06.94-2.06 2.06-.94-2.06-.94-.94-2.06-.94 2.06-2.06.94z\"/><path d=\"M17.41 7.96l-1.37-1.37c-.4-.4-.92-.59-1.43-.59-.52 0-1.04.2-1.43.59L10.3 9.45l-7.72 7.72c-.78.78-.78 2.05 0 2.83L4 21.41c.39.39.9.59 1.41.59.51 0 1.02-.2 1.41-.59l7.78-7.78 2.81-2.81c.8-.78.8-2.07 0-2.86zM5.41 20L4 18.59l7.72-7.72 1.47 1.35L5.41 20z\"/>\n",
       "  </svg>\n",
       "      </button>\n",
       "      \n",
       "  <style>\n",
       "    .colab-df-container {\n",
       "      display:flex;\n",
       "      flex-wrap:wrap;\n",
       "      gap: 12px;\n",
       "    }\n",
       "\n",
       "    .colab-df-convert {\n",
       "      background-color: #E8F0FE;\n",
       "      border: none;\n",
       "      border-radius: 50%;\n",
       "      cursor: pointer;\n",
       "      display: none;\n",
       "      fill: #1967D2;\n",
       "      height: 32px;\n",
       "      padding: 0 0 0 0;\n",
       "      width: 32px;\n",
       "    }\n",
       "\n",
       "    .colab-df-convert:hover {\n",
       "      background-color: #E2EBFA;\n",
       "      box-shadow: 0px 1px 2px rgba(60, 64, 67, 0.3), 0px 1px 3px 1px rgba(60, 64, 67, 0.15);\n",
       "      fill: #174EA6;\n",
       "    }\n",
       "\n",
       "    [theme=dark] .colab-df-convert {\n",
       "      background-color: #3B4455;\n",
       "      fill: #D2E3FC;\n",
       "    }\n",
       "\n",
       "    [theme=dark] .colab-df-convert:hover {\n",
       "      background-color: #434B5C;\n",
       "      box-shadow: 0px 1px 3px 1px rgba(0, 0, 0, 0.15);\n",
       "      filter: drop-shadow(0px 1px 2px rgba(0, 0, 0, 0.3));\n",
       "      fill: #FFFFFF;\n",
       "    }\n",
       "  </style>\n",
       "\n",
       "      <script>\n",
       "        const buttonEl =\n",
       "          document.querySelector('#df-51035399-dc9e-4b83-ba2c-2c159453b6fb button.colab-df-convert');\n",
       "        buttonEl.style.display =\n",
       "          google.colab.kernel.accessAllowed ? 'block' : 'none';\n",
       "\n",
       "        async function convertToInteractive(key) {\n",
       "          const element = document.querySelector('#df-51035399-dc9e-4b83-ba2c-2c159453b6fb');\n",
       "          const dataTable =\n",
       "            await google.colab.kernel.invokeFunction('convertToInteractive',\n",
       "                                                     [key], {});\n",
       "          if (!dataTable) return;\n",
       "\n",
       "          const docLinkHtml = 'Like what you see? Visit the ' +\n",
       "            '<a target=\"_blank\" href=https://colab.research.google.com/notebooks/data_table.ipynb>data table notebook</a>'\n",
       "            + ' to learn more about interactive tables.';\n",
       "          element.innerHTML = '';\n",
       "          dataTable['output_type'] = 'display_data';\n",
       "          await google.colab.output.renderOutput(dataTable, element);\n",
       "          const docLink = document.createElement('div');\n",
       "          docLink.innerHTML = docLinkHtml;\n",
       "          element.appendChild(docLink);\n",
       "        }\n",
       "      </script>\n",
       "    </div>\n",
       "  </div>\n",
       "  "
      ],
      "text/plain": [
       "              file  name  width  height  xmin  ymin  xmax  ymax  class\n",
       "0  maksssksksss109  head    400     400   216    92   372   251      0\n",
       "1  maksssksksss106  head    600     399   154    51   423   391      0\n",
       "2   maksssksksss10  head    301     400    98   267   194   383      0\n",
       "3  maksssksksss104  head    400     267    42   109    66   140      0\n",
       "4  maksssksksss104  head    400     267     2   105    22   125      0"
      ]
     },
     "execution_count": 34,
     "metadata": {},
     "output_type": "execute_result"
    }
   ],
   "source": [
    "df.head()"
   ]
  },
  {
   "cell_type": "code",
   "execution_count": 36,
   "metadata": {
    "executionInfo": {
     "elapsed": 273,
     "status": "ok",
     "timestamp": 1667549104900,
     "user": {
      "displayName": "Azizov Said",
      "userId": "03891546208068748818"
     },
     "user_tz": -180
    },
    "id": "64u9-1luTaJ_"
   },
   "outputs": [],
   "source": [
    "df['xmax'] = (640/df['width'])*df['xmax']\n",
    "df['ymax'] = (480/df['height'])*df['ymax']\n",
    "df['xmin'] = (640/df['width'])*df['xmin']\n",
    "df['ymin'] = (480/df['height'])*df['ymin']"
   ]
  },
  {
   "cell_type": "code",
   "execution_count": 37,
   "metadata": {
    "executionInfo": {
     "elapsed": 240,
     "status": "ok",
     "timestamp": 1667549106282,
     "user": {
      "displayName": "Azizov Said",
      "userId": "03891546208068748818"
     },
     "user_tz": -180
    },
    "id": "mlupR3iTTaKA"
   },
   "outputs": [],
   "source": [
    "df[['xmax', 'ymax', 'xmin', 'ymin']] = df[['xmax', 'ymax', 'xmin', 'ymin']].astype('int64')"
   ]
  },
  {
   "cell_type": "code",
   "execution_count": 38,
   "metadata": {
    "executionInfo": {
     "elapsed": 443,
     "status": "ok",
     "timestamp": 1667549108052,
     "user": {
      "displayName": "Azizov Said",
      "userId": "03891546208068748818"
     },
     "user_tz": -180
    },
    "id": "eiiP4IBaTaKA"
   },
   "outputs": [],
   "source": [
    "df['x_center'] = (df['xmax']+df['xmin'])/(2*640)\n",
    "df['y_center'] = (df['ymax']+df['ymin'])/(2*480)\n",
    "df['box_height'] = (df['xmax']-df['xmin'])/(640)\n",
    "df['box_width'] = (df['ymax']-df['ymin'])/(480)"
   ]
  },
  {
   "cell_type": "code",
   "execution_count": 39,
   "metadata": {
    "colab": {
     "base_uri": "https://localhost:8080/",
     "height": 264
    },
    "executionInfo": {
     "elapsed": 380,
     "status": "ok",
     "timestamp": 1667549116419,
     "user": {
      "displayName": "Azizov Said",
      "userId": "03891546208068748818"
     },
     "user_tz": -180
    },
    "id": "6Dz3_PcKTaKA",
    "outputId": "212b2113-2abc-414d-d9e7-399c6df3401c"
   },
   "outputs": [
    {
     "data": {
      "text/html": [
       "\n",
       "  <div id=\"df-4d8f3b9d-3966-46d8-858a-54e63c4deac5\">\n",
       "    <div class=\"colab-df-container\">\n",
       "      <div>\n",
       "<style scoped>\n",
       "    .dataframe tbody tr th:only-of-type {\n",
       "        vertical-align: middle;\n",
       "    }\n",
       "\n",
       "    .dataframe tbody tr th {\n",
       "        vertical-align: top;\n",
       "    }\n",
       "\n",
       "    .dataframe thead th {\n",
       "        text-align: right;\n",
       "    }\n",
       "</style>\n",
       "<table border=\"1\" class=\"dataframe\">\n",
       "  <thead>\n",
       "    <tr style=\"text-align: right;\">\n",
       "      <th></th>\n",
       "      <th>file</th>\n",
       "      <th>name</th>\n",
       "      <th>width</th>\n",
       "      <th>height</th>\n",
       "      <th>xmin</th>\n",
       "      <th>ymin</th>\n",
       "      <th>xmax</th>\n",
       "      <th>ymax</th>\n",
       "      <th>class</th>\n",
       "      <th>x_center</th>\n",
       "      <th>y_center</th>\n",
       "      <th>box_height</th>\n",
       "      <th>box_width</th>\n",
       "    </tr>\n",
       "  </thead>\n",
       "  <tbody>\n",
       "    <tr>\n",
       "      <th>0</th>\n",
       "      <td>maksssksksss109</td>\n",
       "      <td>head</td>\n",
       "      <td>400</td>\n",
       "      <td>400</td>\n",
       "      <td>345</td>\n",
       "      <td>110</td>\n",
       "      <td>595</td>\n",
       "      <td>301</td>\n",
       "      <td>0</td>\n",
       "      <td>0.734375</td>\n",
       "      <td>0.428125</td>\n",
       "      <td>0.390625</td>\n",
       "      <td>0.397917</td>\n",
       "    </tr>\n",
       "    <tr>\n",
       "      <th>1</th>\n",
       "      <td>maksssksksss106</td>\n",
       "      <td>head</td>\n",
       "      <td>600</td>\n",
       "      <td>399</td>\n",
       "      <td>164</td>\n",
       "      <td>61</td>\n",
       "      <td>451</td>\n",
       "      <td>470</td>\n",
       "      <td>0</td>\n",
       "      <td>0.480469</td>\n",
       "      <td>0.553125</td>\n",
       "      <td>0.448437</td>\n",
       "      <td>0.852083</td>\n",
       "    </tr>\n",
       "    <tr>\n",
       "      <th>2</th>\n",
       "      <td>maksssksksss10</td>\n",
       "      <td>head</td>\n",
       "      <td>301</td>\n",
       "      <td>400</td>\n",
       "      <td>208</td>\n",
       "      <td>320</td>\n",
       "      <td>412</td>\n",
       "      <td>459</td>\n",
       "      <td>0</td>\n",
       "      <td>0.484375</td>\n",
       "      <td>0.811458</td>\n",
       "      <td>0.318750</td>\n",
       "      <td>0.289583</td>\n",
       "    </tr>\n",
       "    <tr>\n",
       "      <th>3</th>\n",
       "      <td>maksssksksss104</td>\n",
       "      <td>head</td>\n",
       "      <td>400</td>\n",
       "      <td>267</td>\n",
       "      <td>67</td>\n",
       "      <td>195</td>\n",
       "      <td>105</td>\n",
       "      <td>251</td>\n",
       "      <td>0</td>\n",
       "      <td>0.134375</td>\n",
       "      <td>0.464583</td>\n",
       "      <td>0.059375</td>\n",
       "      <td>0.116667</td>\n",
       "    </tr>\n",
       "    <tr>\n",
       "      <th>4</th>\n",
       "      <td>maksssksksss104</td>\n",
       "      <td>head</td>\n",
       "      <td>400</td>\n",
       "      <td>267</td>\n",
       "      <td>3</td>\n",
       "      <td>188</td>\n",
       "      <td>35</td>\n",
       "      <td>224</td>\n",
       "      <td>0</td>\n",
       "      <td>0.029687</td>\n",
       "      <td>0.429167</td>\n",
       "      <td>0.050000</td>\n",
       "      <td>0.075000</td>\n",
       "    </tr>\n",
       "  </tbody>\n",
       "</table>\n",
       "</div>\n",
       "      <button class=\"colab-df-convert\" onclick=\"convertToInteractive('df-4d8f3b9d-3966-46d8-858a-54e63c4deac5')\"\n",
       "              title=\"Convert this dataframe to an interactive table.\"\n",
       "              style=\"display:none;\">\n",
       "        \n",
       "  <svg xmlns=\"http://www.w3.org/2000/svg\" height=\"24px\"viewBox=\"0 0 24 24\"\n",
       "       width=\"24px\">\n",
       "    <path d=\"M0 0h24v24H0V0z\" fill=\"none\"/>\n",
       "    <path d=\"M18.56 5.44l.94 2.06.94-2.06 2.06-.94-2.06-.94-.94-2.06-.94 2.06-2.06.94zm-11 1L8.5 8.5l.94-2.06 2.06-.94-2.06-.94L8.5 2.5l-.94 2.06-2.06.94zm10 10l.94 2.06.94-2.06 2.06-.94-2.06-.94-.94-2.06-.94 2.06-2.06.94z\"/><path d=\"M17.41 7.96l-1.37-1.37c-.4-.4-.92-.59-1.43-.59-.52 0-1.04.2-1.43.59L10.3 9.45l-7.72 7.72c-.78.78-.78 2.05 0 2.83L4 21.41c.39.39.9.59 1.41.59.51 0 1.02-.2 1.41-.59l7.78-7.78 2.81-2.81c.8-.78.8-2.07 0-2.86zM5.41 20L4 18.59l7.72-7.72 1.47 1.35L5.41 20z\"/>\n",
       "  </svg>\n",
       "      </button>\n",
       "      \n",
       "  <style>\n",
       "    .colab-df-container {\n",
       "      display:flex;\n",
       "      flex-wrap:wrap;\n",
       "      gap: 12px;\n",
       "    }\n",
       "\n",
       "    .colab-df-convert {\n",
       "      background-color: #E8F0FE;\n",
       "      border: none;\n",
       "      border-radius: 50%;\n",
       "      cursor: pointer;\n",
       "      display: none;\n",
       "      fill: #1967D2;\n",
       "      height: 32px;\n",
       "      padding: 0 0 0 0;\n",
       "      width: 32px;\n",
       "    }\n",
       "\n",
       "    .colab-df-convert:hover {\n",
       "      background-color: #E2EBFA;\n",
       "      box-shadow: 0px 1px 2px rgba(60, 64, 67, 0.3), 0px 1px 3px 1px rgba(60, 64, 67, 0.15);\n",
       "      fill: #174EA6;\n",
       "    }\n",
       "\n",
       "    [theme=dark] .colab-df-convert {\n",
       "      background-color: #3B4455;\n",
       "      fill: #D2E3FC;\n",
       "    }\n",
       "\n",
       "    [theme=dark] .colab-df-convert:hover {\n",
       "      background-color: #434B5C;\n",
       "      box-shadow: 0px 1px 3px 1px rgba(0, 0, 0, 0.15);\n",
       "      filter: drop-shadow(0px 1px 2px rgba(0, 0, 0, 0.3));\n",
       "      fill: #FFFFFF;\n",
       "    }\n",
       "  </style>\n",
       "\n",
       "      <script>\n",
       "        const buttonEl =\n",
       "          document.querySelector('#df-4d8f3b9d-3966-46d8-858a-54e63c4deac5 button.colab-df-convert');\n",
       "        buttonEl.style.display =\n",
       "          google.colab.kernel.accessAllowed ? 'block' : 'none';\n",
       "\n",
       "        async function convertToInteractive(key) {\n",
       "          const element = document.querySelector('#df-4d8f3b9d-3966-46d8-858a-54e63c4deac5');\n",
       "          const dataTable =\n",
       "            await google.colab.kernel.invokeFunction('convertToInteractive',\n",
       "                                                     [key], {});\n",
       "          if (!dataTable) return;\n",
       "\n",
       "          const docLinkHtml = 'Like what you see? Visit the ' +\n",
       "            '<a target=\"_blank\" href=https://colab.research.google.com/notebooks/data_table.ipynb>data table notebook</a>'\n",
       "            + ' to learn more about interactive tables.';\n",
       "          element.innerHTML = '';\n",
       "          dataTable['output_type'] = 'display_data';\n",
       "          await google.colab.output.renderOutput(dataTable, element);\n",
       "          const docLink = document.createElement('div');\n",
       "          docLink.innerHTML = docLinkHtml;\n",
       "          element.appendChild(docLink);\n",
       "        }\n",
       "      </script>\n",
       "    </div>\n",
       "  </div>\n",
       "  "
      ],
      "text/plain": [
       "              file  name  width  height  xmin  ymin  xmax  ymax  class  \\\n",
       "0  maksssksksss109  head    400     400   345   110   595   301      0   \n",
       "1  maksssksksss106  head    600     399   164    61   451   470      0   \n",
       "2   maksssksksss10  head    301     400   208   320   412   459      0   \n",
       "3  maksssksksss104  head    400     267    67   195   105   251      0   \n",
       "4  maksssksksss104  head    400     267     3   188    35   224      0   \n",
       "\n",
       "   x_center  y_center  box_height  box_width  \n",
       "0  0.734375  0.428125    0.390625   0.397917  \n",
       "1  0.480469  0.553125    0.448437   0.852083  \n",
       "2  0.484375  0.811458    0.318750   0.289583  \n",
       "3  0.134375  0.464583    0.059375   0.116667  \n",
       "4  0.029687  0.429167    0.050000   0.075000  "
      ]
     },
     "execution_count": 39,
     "metadata": {},
     "output_type": "execute_result"
    }
   ],
   "source": [
    "df.head()"
   ]
  },
  {
   "cell_type": "code",
   "execution_count": 40,
   "metadata": {
    "executionInfo": {
     "elapsed": 278,
     "status": "ok",
     "timestamp": 1667549139229,
     "user": {
      "displayName": "Azizov Said",
      "userId": "03891546208068748818"
     },
     "user_tz": -180
    },
    "id": "jfSMf7iuTaKB"
   },
   "outputs": [],
   "source": [
    "df = df.astype('string')"
   ]
  },
  {
   "cell_type": "code",
   "execution_count": 41,
   "metadata": {
    "executionInfo": {
     "elapsed": 3113,
     "status": "ok",
     "timestamp": 1667549144646,
     "user": {
      "displayName": "Azizov Said",
      "userId": "03891546208068748818"
     },
     "user_tz": -180
    },
    "id": "lazQQhNiTaKB"
   },
   "outputs": [],
   "source": [
    "def create_labels(image_list, data_name):\n",
    "    fileNames = [x.split(\".\")[0] for x in image_list]\n",
    "\n",
    "    for name in fileNames:\n",
    "        data = df[df.file==name]\n",
    "        box_list = []\n",
    "        \n",
    "        for index in range(len(data)):\n",
    "            row = data.iloc[index]\n",
    "            box_list.append(row['class']+\" \"+row[\"x_center\"]+\" \"+row[\"y_center\"]\\\n",
    "                        +\" \"+row[\"box_height\"]+\" \"+row[\"box_width\"])\n",
    "            \n",
    "        text = \"\\n\".join(box_list)\n",
    "        with open(output_data+\"/yolov5/data/\"+data_name+\"/labels/\"+name+\".txt\", \"w\") as file:\n",
    "            file.write(text)\n",
    "\n",
    "\n",
    "create_labels(train, \"train\")\n",
    "create_labels(val, \"val\")\n",
    "create_labels(test, \"test\")"
   ]
  },
  {
   "cell_type": "markdown",
   "metadata": {
    "id": "Y7IXRuHNTaKB"
   },
   "source": [
    "# Configure the Model"
   ]
  },
  {
   "cell_type": "code",
   "execution_count": 46,
   "metadata": {
    "colab": {
     "base_uri": "https://localhost:8080/"
    },
    "executionInfo": {
     "elapsed": 252,
     "status": "ok",
     "timestamp": 1667549194251,
     "user": {
      "displayName": "Azizov Said",
      "userId": "03891546208068748818"
     },
     "user_tz": -180
    },
    "id": "TZFblp6STaKB",
    "outputId": "578d19b0-c2a2-496e-a5e1-1b10c25acb0a"
   },
   "outputs": [
    {
     "name": "stdout",
     "output_type": "stream",
     "text": [
      "/content/yolov5\n"
     ]
    }
   ],
   "source": [
    "# go to YOLO directory\n",
    "%cd yolov5"
   ]
  },
  {
   "cell_type": "code",
   "execution_count": 47,
   "metadata": {
    "colab": {
     "base_uri": "https://localhost:8080/"
    },
    "executionInfo": {
     "elapsed": 4551,
     "status": "ok",
     "timestamp": 1667549200825,
     "user": {
      "displayName": "Azizov Said",
      "userId": "03891546208068748818"
     },
     "user_tz": -180
    },
    "id": "kQE1Sm9HTaKC",
    "outputId": "48df741a-3177-454b-aafb-c0d9658d6c23"
   },
   "outputs": [
    {
     "name": "stderr",
     "output_type": "stream",
     "text": [
      "YOLOv5 🚀 v6.2-225-g02b8a4c Python-3.7.15 torch-1.12.1+cu113 CPU\n"
     ]
    },
    {
     "name": "stdout",
     "output_type": "stream",
     "text": [
      "Setup complete ✅ (2 CPUs, 12.7 GB RAM, 23.3/225.8 GB disk)\n"
     ]
    }
   ],
   "source": [
    "# to display images\n",
    "from IPython.display import Image, clear_output\n",
    "import torch\n",
    "from yolov5 import utils\n",
    "display = utils.notebook_init()"
   ]
  },
  {
   "cell_type": "code",
   "execution_count": 49,
   "metadata": {
    "colab": {
     "base_uri": "https://localhost:8080/"
    },
    "executionInfo": {
     "elapsed": 288,
     "status": "ok",
     "timestamp": 1667549219533,
     "user": {
      "displayName": "Azizov Said",
      "userId": "03891546208068748818"
     },
     "user_tz": -180
    },
    "id": "hTFkqqpQTaKC",
    "outputId": "fa88b183-4b40-46a8-d416-3be598092f19"
   },
   "outputs": [
    {
     "name": "stdout",
     "output_type": "stream",
     "text": [
      "train: data/train/images\n",
      "val: data/train/images\n",
      "\n",
      "nc: 1\n",
      "names: ['head']"
     ]
    }
   ],
   "source": [
    "# configure .yaml file to guide the model for training\n",
    "yaml_text = \"\"\"train: data/train/images\n",
    "val: data/train/images\n",
    "\n",
    "nc: 1\n",
    "names: ['head']\"\"\"\n",
    "\n",
    "with open(\"data/data.yaml\", 'w') as file:\n",
    "    file.write(yaml_text)\n",
    "\n",
    "%cat data/data.yaml"
   ]
  },
  {
   "cell_type": "code",
   "execution_count": 50,
   "metadata": {
    "executionInfo": {
     "elapsed": 249,
     "status": "ok",
     "timestamp": 1667549226838,
     "user": {
      "displayName": "Azizov Said",
      "userId": "03891546208068748818"
     },
     "user_tz": -180
    },
    "id": "yRrtAJG6TaKC"
   },
   "outputs": [],
   "source": [
    "#customize iPython writefile so we can write variables\n",
    "from IPython.core.magic import register_line_cell_magic\n",
    "\n",
    "@register_line_cell_magic\n",
    "def writetemplate(line, cell):\n",
    "    with open(line, 'w') as f:\n",
    "        f.write(cell.format(**globals()))"
   ]
  },
  {
   "cell_type": "code",
   "execution_count": 51,
   "metadata": {
    "executionInfo": {
     "elapsed": 266,
     "status": "ok",
     "timestamp": 1667549229337,
     "user": {
      "displayName": "Azizov Said",
      "userId": "03891546208068748818"
     },
     "user_tz": -180
    },
    "id": "Gq0cIcp_TaKC"
   },
   "outputs": [],
   "source": [
    "%%writetemplate models/custom_yolov5s.yaml\n",
    "\n",
    "# parameters\n",
    "nc: 1  # number of classes\n",
    "depth_multiple: 0.33  # model depth multiple\n",
    "width_multiple: 0.50  # layer channel multiple\n",
    "\n",
    "# anchors\n",
    "anchors:\n",
    "    - [10,13, 16,30, 33,23]  # P3/8\n",
    "    - [30,61, 62,45, 59,119]  # P4/16\n",
    "    - [116,90, 156,198, 373,326]  # P5/32\n",
    "\n",
    "# YOLOv5 backbone\n",
    "backbone:\n",
    "  # [from, number, module, args]\n",
    "  [[-1, 1, Focus, [64, 3]],  # 0-P1/2\n",
    "   [-1, 1, Conv, [128, 3, 2]],  # 1-P2/4\n",
    "   [-1, 3, BottleneckCSP, [128]],\n",
    "   [-1, 1, Conv, [256, 3, 2]],  # 3-P3/8\n",
    "   [-1, 9, BottleneckCSP, [256]],\n",
    "   [-1, 1, Conv, [512, 3, 2]],  # 5-P4/16\n",
    "   [-1, 9, BottleneckCSP, [512]],\n",
    "   [-1, 1, Conv, [1024, 3, 2]],  # 7-P5/32\n",
    "   [-1, 1, SPP, [1024, [5, 9, 13]]],\n",
    "   [-1, 3, BottleneckCSP, [1024, False]],  # 9\n",
    "  ]\n",
    "\n",
    "# YOLOv5 head\n",
    "head:\n",
    "    [[-1, 1, Conv, [512, 1, 1]],\n",
    "    [-1, 1, nn.Upsample, [None, 2, 'nearest']],\n",
    "    [[-1, 6], 1, Concat, [1]],  # cat backbone P4\n",
    "    [-1, 3, BottleneckCSP, [512, False]],  # 13\n",
    "\n",
    "    [-1, 1, Conv, [256, 1, 1]],\n",
    "    [-1, 1, nn.Upsample, [None, 2, 'nearest']],\n",
    "    [[-1, 4], 1, Concat, [1]],  # cat backbone P3\n",
    "    [-1, 3, BottleneckCSP, [256, False]],  # 17 (P3/8-small)\n",
    "\n",
    "    [-1, 1, Conv, [256, 3, 2]],\n",
    "    [[-1, 14], 1, Concat, [1]],  # cat head P4\n",
    "    [-1, 3, BottleneckCSP, [512, False]],  # 20 (P4/16-medium)\n",
    "\n",
    "    [-1, 1, Conv, [512, 3, 2]],\n",
    "    [[-1, 10], 1, Concat, [1]],  # cat head P5\n",
    "    [-1, 3, BottleneckCSP, [1024, False]],  # 23 (P5/32-large)\n",
    "\n",
    "    [[17, 20, 23], 1, Detect, [nc, anchors]],  # Detect(P3, P4, P5)\n",
    "    ]"
   ]
  },
  {
   "cell_type": "code",
   "execution_count": null,
   "metadata": {
    "colab": {
     "background_save": true,
     "base_uri": "https://localhost:8080/"
    },
    "id": "8yxZ3AIRTaKD"
   },
   "outputs": [
    {
     "name": "stdout",
     "output_type": "stream",
     "text": [
      "\u001B[34m\u001B[1mtrain: \u001B[0mweights=yolov5s.pt, cfg=models/custom_yolov5s.yaml, data=data/data.yaml, hyp=data/hyps/hyp.scratch-low.yaml, epochs=50, batch_size=32, imgsz=640, rect=False, resume=False, nosave=False, noval=False, noautoanchor=False, noplots=False, evolve=None, bucket=, cache=ram, image_weights=False, device=, multi_scale=False, single_cls=False, optimizer=SGD, sync_bn=False, workers=8, project=runs/train, name=yolov5s_results, exist_ok=False, quad=False, cos_lr=False, label_smoothing=0.0, patience=100, freeze=[0], save_period=-1, seed=0, local_rank=-1, entity=None, upload_dataset=False, bbox_interval=-1, artifact_alias=latest\n",
      "\u001B[34m\u001B[1mgithub: \u001B[0mup to date with https://github.com/ultralytics/yolov5 ✅\n",
      "YOLOv5 🚀 v6.2-225-g02b8a4c Python-3.7.15 torch-1.12.1+cu113 CPU\n",
      "\n",
      "\u001B[34m\u001B[1mhyperparameters: \u001B[0mlr0=0.01, lrf=0.01, momentum=0.937, weight_decay=0.0005, warmup_epochs=3.0, warmup_momentum=0.8, warmup_bias_lr=0.1, box=0.05, cls=0.5, cls_pw=1.0, obj=1.0, obj_pw=1.0, iou_t=0.2, anchor_t=4.0, fl_gamma=0.0, hsv_h=0.015, hsv_s=0.7, hsv_v=0.4, degrees=0.0, translate=0.1, scale=0.5, shear=0.0, perspective=0.0, flipud=0.0, fliplr=0.5, mosaic=1.0, mixup=0.0, copy_paste=0.0\n",
      "\u001B[34m\u001B[1mClearML: \u001B[0mrun 'pip install clearml' to automatically track, visualize and remotely train YOLOv5 🚀 in ClearML\n",
      "\u001B[34m\u001B[1mComet: \u001B[0mrun 'pip install comet_ml' to automatically track and visualize YOLOv5 🚀 runs in Comet\n",
      "\u001B[34m\u001B[1mTensorBoard: \u001B[0mStart with 'tensorboard --logdir runs/train', view at http://localhost:6006/\n",
      "Downloading https://github.com/ultralytics/yolov5/releases/download/v6.2/yolov5s.pt to yolov5s.pt...\n",
      "100% 14.1M/14.1M [00:00<00:00, 37.2MB/s]\n",
      "\n",
      "\n",
      "                 from  n    params  module                                  arguments                     \n",
      "  0                -1  1      3520  models.common.Focus                     [3, 32, 3]                    \n",
      "  1                -1  1     18560  models.common.Conv                      [32, 64, 3, 2]                \n",
      "  2                -1  1     19904  models.common.BottleneckCSP             [64, 64, 1]                   \n",
      "  3                -1  1     73984  models.common.Conv                      [64, 128, 3, 2]               \n",
      "  4                -1  3    161152  models.common.BottleneckCSP             [128, 128, 3]                 \n",
      "  5                -1  1    295424  models.common.Conv                      [128, 256, 3, 2]              \n",
      "  6                -1  3    641792  models.common.BottleneckCSP             [256, 256, 3]                 \n",
      "  7                -1  1   1180672  models.common.Conv                      [256, 512, 3, 2]              \n",
      "  8                -1  1    656896  models.common.SPP                       [512, 512, [5, 9, 13]]        \n",
      "  9                -1  1   1248768  models.common.BottleneckCSP             [512, 512, 1, False]          \n",
      " 10                -1  1    131584  models.common.Conv                      [512, 256, 1, 1]              \n",
      " 11                -1  1         0  torch.nn.modules.upsampling.Upsample    [None, 2, 'nearest']          \n",
      " 12           [-1, 6]  1         0  models.common.Concat                    [1]                           \n",
      " 13                -1  1    378624  models.common.BottleneckCSP             [512, 256, 1, False]          \n",
      " 14                -1  1     33024  models.common.Conv                      [256, 128, 1, 1]              \n",
      " 15                -1  1         0  torch.nn.modules.upsampling.Upsample    [None, 2, 'nearest']          \n",
      " 16           [-1, 4]  1         0  models.common.Concat                    [1]                           \n",
      " 17                -1  1     95104  models.common.BottleneckCSP             [256, 128, 1, False]          \n",
      " 18                -1  1    147712  models.common.Conv                      [128, 128, 3, 2]              \n",
      " 19          [-1, 14]  1         0  models.common.Concat                    [1]                           \n",
      " 20                -1  1    313088  models.common.BottleneckCSP             [256, 256, 1, False]          \n",
      " 21                -1  1    590336  models.common.Conv                      [256, 256, 3, 2]              \n",
      " 22          [-1, 10]  1         0  models.common.Concat                    [1]                           \n",
      " 23                -1  1   1248768  models.common.BottleneckCSP             [512, 512, 1, False]          \n",
      " 24      [17, 20, 23]  1     16182  models.yolo.Detect                      [1, [[10, 13, 16, 30, 33, 23], [30, 61, 62, 45, 59, 119], [116, 90, 156, 198, 373, 326]], [128, 256, 512]]\n",
      "custom_YOLOv5s summary: 233 layers, 7255094 parameters, 7255094 gradients\n",
      "\n",
      "Transferred 223/369 items from yolov5s.pt\n",
      "\u001B[34m\u001B[1moptimizer:\u001B[0m SGD(lr=0.01) with parameter groups 59 weight(decay=0.0), 70 weight(decay=0.0005), 62 bias\n",
      "\u001B[34m\u001B[1malbumentations: \u001B[0mBlur(p=0.01, blur_limit=(3, 7)), MedianBlur(p=0.01, blur_limit=(3, 7)), ToGray(p=0.01), CLAHE(p=0.01, clip_limit=(1, 4.0), tile_grid_size=(8, 8))\n",
      "\u001B[34m\u001B[1mtrain: \u001B[0mScanning '/content/yolov5/data/train/labels' images and labels...767 found, 0 missing, 0 empty, 0 corrupt: 100% 767/767 [00:01<00:00, 441.44it/s]\n",
      "\u001B[34m\u001B[1mtrain: \u001B[0mNew cache created: /content/yolov5/data/train/labels.cache\n",
      "\u001B[34m\u001B[1mtrain: \u001B[0mCaching images (0.1GB ram):  16% 125/767 [00:01<00:10, 62.39it/s]libpng warning: iCCP: Not recognizing known sRGB profile that has been edited\n",
      "\u001B[34m\u001B[1mtrain: \u001B[0mCaching images (0.7GB ram): 100% 767/767 [00:11<00:00, 64.17it/s]\n",
      "\u001B[34m\u001B[1mval: \u001B[0mScanning '/content/yolov5/data/train/labels.cache' images and labels... 767 found, 0 missing, 0 empty, 0 corrupt: 100% 767/767 [00:00<?, ?it/s]\n",
      "\u001B[34m\u001B[1mval: \u001B[0mCaching images (0.4GB ram):  50% 386/767 [00:08<00:05, 67.00it/s]libpng warning: iCCP: Not recognizing known sRGB profile that has been edited\n",
      "\u001B[34m\u001B[1mval: \u001B[0mCaching images (0.7GB ram): 100% 767/767 [00:13<00:00, 55.42it/s]\n",
      "\n",
      "\u001B[34m\u001B[1mAutoAnchor: \u001B[0m5.65 anchors/target, 0.999 Best Possible Recall (BPR). Current anchors are a good fit to dataset ✅\n",
      "Plotting labels to runs/train/yolov5s_results/labels.jpg... \n"
     ]
    }
   ],
   "source": [
    "# train yolov5s on custom data for 100 epochs\n",
    "# time its performance\n",
    "# we are going to using pre-trained weights from yolov5.pt model\n",
    "\n",
    "start = datetime.now()\n",
    "!python train.py --img 640 --batch 32 --epochs 50 --data data/data.yaml --cfg models/custom_yolov5s.yaml --weights yolov5s.pt --name yolov5s_results  --cache\n",
    "end = datetime.now()"
   ]
  },
  {
   "cell_type": "code",
   "execution_count": null,
   "metadata": {
    "id": "g0mUBqbxTaKD",
    "outputId": "b2d11920-9953-449c-f7dc-81ad96d53b65"
   },
   "outputs": [
    {
     "name": "stdout",
     "output_type": "stream",
     "text": [
      "Runtime = 0:20:31.438000\n"
     ]
    }
   ],
   "source": [
    "print(\"Runtime =\",end-start)"
   ]
  },
  {
   "cell_type": "code",
   "execution_count": null,
   "metadata": {
    "id": "rbMgvF9fTaKD",
    "outputId": "8121b2b7-a84c-45af-fd35-8f5eb94efa55",
    "pycharm": {
     "is_executing": true
    }
   },
   "outputs": [],
   "source": [
    "# lets visualize the training results\n",
    "img = plt.imread('runs/train/yolov5s_results/train_batch0.jpg')\n",
    "plt.figure(figsize=(20,15))\n",
    "plt.imshow(img)\n",
    "plt.axis('off')\n",
    "plt.show()"
   ]
  },
  {
   "cell_type": "markdown",
   "metadata": {
    "id": "sS3H-eOBTaKE"
   },
   "source": [
    "# Test the Model\n",
    "lets test the model over test images we had separated before training"
   ]
  },
  {
   "cell_type": "code",
   "execution_count": null,
   "metadata": {
    "id": "94pK-9znTaKE",
    "outputId": "0510a29c-34de-4159-c510-8180deb466a2"
   },
   "outputs": [
    {
     "name": "stdout",
     "output_type": "stream",
     "text": [
      "\u001B[34m\u001B[1mdetect: \u001B[0mweights=['runs/train/yolov5s_results/weights/best.pt'], source=data/test/images/, data=data/coco128.yaml, imgsz=[640, 640], conf_thres=0.4, iou_thres=0.45, max_det=1000, device=, view_img=False, save_txt=False, save_conf=False, save_crop=False, nosave=False, classes=None, agnostic_nms=False, augment=False, visualize=False, update=False, project=runs/detect, name=expTestImage, exist_ok=False, line_thickness=3, hide_labels=False, hide_conf=False, half=False, dnn=False\n",
      "YOLOv5 🚀 v6.1-105-gd257c75 torch 1.9.1 CUDA:0 (Tesla P100-PCIE-16GB, 16281MiB)\n",
      "\n",
      "Fusing layers... \n",
      "custom_YOLOv5s summary: 232 layers, 7251912 parameters, 0 gradients, 16.8 GFLOPs\n",
      "image 1/25 /kaggle/working/yolov5/data/test/images/maksssksksss151.png: 480x640 9 with_masks, Done. (0.012s)\n",
      "image 2/25 /kaggle/working/yolov5/data/test/images/maksssksksss164.png: 480x640 6 with_masks, 3 without_masks, Done. (0.008s)\n",
      "image 3/25 /kaggle/working/yolov5/data/test/images/maksssksksss173.png: 480x640 2 with_masks, Done. (0.008s)\n",
      "image 4/25 /kaggle/working/yolov5/data/test/images/maksssksksss193.png: 480x640 2 with_masks, Done. (0.008s)\n",
      "image 5/25 /kaggle/working/yolov5/data/test/images/maksssksksss236.png: 480x640 1 without_mask, Done. (0.008s)\n",
      "image 6/25 /kaggle/working/yolov5/data/test/images/maksssksksss24.png: 480x640 Done. (0.009s)\n",
      "image 7/25 /kaggle/working/yolov5/data/test/images/maksssksksss323.png: 480x640 1 with_mask, Done. (0.008s)\n",
      "image 8/25 /kaggle/working/yolov5/data/test/images/maksssksksss381.png: 480x640 4 with_masks, Done. (0.008s)\n",
      "image 9/25 /kaggle/working/yolov5/data/test/images/maksssksksss433.png: 480x640 1 with_mask, Done. (0.010s)\n",
      "image 10/25 /kaggle/working/yolov5/data/test/images/maksssksksss466.png: 480x640 4 with_masks, 1 without_mask, Done. (0.009s)\n",
      "image 11/25 /kaggle/working/yolov5/data/test/images/maksssksksss497.png: 480x640 1 with_mask, Done. (0.008s)\n",
      "image 12/25 /kaggle/working/yolov5/data/test/images/maksssksksss607.png: 480x640 2 with_masks, Done. (0.008s)\n",
      "image 13/25 /kaggle/working/yolov5/data/test/images/maksssksksss611.png: 480x640 5 with_masks, Done. (0.008s)\n",
      "image 14/25 /kaggle/working/yolov5/data/test/images/maksssksksss630.png: 480x640 1 with_mask, Done. (0.008s)\n",
      "image 15/25 /kaggle/working/yolov5/data/test/images/maksssksksss640.png: 480x640 10 with_masks, Done. (0.009s)\n",
      "image 16/25 /kaggle/working/yolov5/data/test/images/maksssksksss65.png: 480x640 2 with_masks, 1 without_mask, Done. (0.008s)\n",
      "image 17/25 /kaggle/working/yolov5/data/test/images/maksssksksss658.png: 480x640 1 with_mask, Done. (0.008s)\n",
      "image 18/25 /kaggle/working/yolov5/data/test/images/maksssksksss747.png: 480x640 1 with_mask, Done. (0.009s)\n",
      "image 19/25 /kaggle/working/yolov5/data/test/images/maksssksksss750.png: 480x640 6 without_masks, Done. (0.008s)\n",
      "image 20/25 /kaggle/working/yolov5/data/test/images/maksssksksss755.png: 480x640 6 with_masks, Done. (0.008s)\n",
      "image 21/25 /kaggle/working/yolov5/data/test/images/maksssksksss770.png: 480x640 5 with_masks, 2 without_masks, Done. (0.008s)\n",
      "image 22/25 /kaggle/working/yolov5/data/test/images/maksssksksss772.png: 480x640 2 without_masks, Done. (0.008s)\n",
      "image 23/25 /kaggle/working/yolov5/data/test/images/maksssksksss796.png: 480x640 13 with_masks, Done. (0.010s)\n",
      "image 24/25 /kaggle/working/yolov5/data/test/images/maksssksksss797.png: 480x640 6 with_masks, Done. (0.008s)\n",
      "image 25/25 /kaggle/working/yolov5/data/test/images/maksssksksss848.png: 480x640 3 with_masks, Done. (0.008s)\n",
      "Speed: 0.4ms pre-process, 8.5ms inference, 0.9ms NMS per image at shape (1, 3, 640, 640)\n",
      "Results saved to \u001B[1mruns/detect/expTestImage\u001B[0m\n"
     ]
    }
   ],
   "source": [
    "!python detect.py --source data/test/images/ --weight runs/train/yolov5s_results/weights/best.pt --name expTestImage --conf 0.4"
   ]
  },
  {
   "cell_type": "markdown",
   "metadata": {
    "id": "PKfxS0CeTaKF"
   },
   "source": [
    "results are saved inside run/detect/expTestImage dir <br>\n",
    "let's check the results to see how our model performed"
   ]
  },
  {
   "cell_type": "code",
   "execution_count": null,
   "metadata": {
    "id": "mk2mqkKZTaKF"
   },
   "outputs": [],
   "source": [
    "color_dict = {\n",
    "    'with_mask': (0, 255, 0),\n",
    "    'mask_weared_incorrect':  (0, 0, 255),\n",
    "    'without_mask': (255, 0, 0) \n",
    "}"
   ]
  },
  {
   "cell_type": "code",
   "execution_count": null,
   "metadata": {
    "id": "Epy0X--bTaKF"
   },
   "outputs": [],
   "source": [
    "def show_image(img_id):\n",
    "    df_image = df[df.file==img_id]\n",
    "    df_image[['xmin', 'ymin', 'xmax', 'ymax']] = df_image[['xmin', 'ymin', 'xmax', 'ymax']].astype('int64')\n",
    "    path = 'data/test/images/'+img_id# +'.png'\n",
    "    img = plt.imread(path)\n",
    "\n",
    "    imge = img.copy()\n",
    "\n",
    "    for index in range(len(df_image)):\n",
    "        row = df_image.iloc[index]\n",
    "        cv2.rectangle(imge, \n",
    "                      (row['xmin'], row['ymin']),\n",
    "                      (row['xmax'], row['ymax']),\n",
    "                      color=color_dict[row['name']],\n",
    "                      thickness=2)\n",
    "\n",
    "    img_pred = plt.imread('runs/detect/expTestImage/'+img_id)\n",
    "    # ===================================\n",
    "    plt.figure(figsize=(14,17))\n",
    "\n",
    "    plt.subplot(1,2,1)\n",
    "    plt.imshow(imge)\n",
    "    plt.axis('off')\n",
    "    plt.title('Image with Truth Box')\n",
    "\n",
    "    plt.subplot(1,2,2)\n",
    "    plt.imshow(img_pred)\n",
    "    plt.axis('off')\n",
    "    plt.title('Image with Predicted Box')"
   ]
  },
  {
   "cell_type": "code",
   "execution_count": null,
   "metadata": {
    "id": "6YJBUabYTaKG",
    "outputId": "0b3c6ec8-d271-4069-b3c2-3975f7777a30",
    "pycharm": {
     "is_executing": true
    }
   },
   "outputs": [],
   "source": [
    "import os, random\n",
    "show_image(random.choice(os.listdir(\"data/test/images/\"))) \n",
    "show_image(random.choice(os.listdir(\"data/test/images/\"))) \n",
    "plt.show()"
   ]
  },
  {
   "cell_type": "markdown",
   "metadata": {
    "id": "v_nGh4A2TaKG"
   },
   "source": [
    "# END"
   ]
  }
 ],
 "metadata": {
  "accelerator": "GPU",
  "colab": {
   "collapsed_sections": [
    "Y7IXRuHNTaKB",
    "v_nGh4A2TaKG"
   ],
   "name": "",
   "version": ""
  },
  "gpuClass": "premium",
  "kernelspec": {
   "display_name": "Python 3",
   "language": "python",
   "name": "python3"
  },
  "language_info": {
   "codemirror_mode": {
    "name": "ipython",
    "version": 3
   },
   "file_extension": ".py",
   "mimetype": "text/x-python",
   "name": "python",
   "nbconvert_exporter": "python",
   "pygments_lexer": "ipython3",
   "version": "3.7.12"
  }
 },
 "nbformat": 4,
 "nbformat_minor": 0
}
